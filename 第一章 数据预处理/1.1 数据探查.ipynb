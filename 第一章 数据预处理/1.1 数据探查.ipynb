{
 "cells": [
  {
   "cell_type": "markdown",
   "id": "7d2e997a",
   "metadata": {},
   "source": [
    "## 1.1 数据探查 样例代码"
   ]
  },
  {
   "cell_type": "markdown",
   "id": "4704828d",
   "metadata": {},
   "source": [
    "### 导入需要的库"
   ]
  },
  {
   "cell_type": "code",
   "execution_count": 8,
   "id": "456f7476",
   "metadata": {},
   "outputs": [],
   "source": [
    "import pandas as pd\n",
    "import numpy as np\n",
    "import matplotlib.pyplot as plt\n",
    "from scipy.stats import kurtosis, skew"
   ]
  },
  {
   "cell_type": "markdown",
   "id": "83bec82b",
   "metadata": {},
   "source": [
    "### 1.1.1 单变量探查"
   ]
  },
  {
   "cell_type": "code",
   "execution_count": 3,
   "id": "ff96e0f6",
   "metadata": {},
   "outputs": [],
   "source": [
    "# 样例数据\n",
    "data = {'value': [10, 20, 30, 1000, 40, 50]}\n",
    "df = pd.DataFrame(data)"
   ]
  },
  {
   "cell_type": "code",
   "execution_count": 4,
   "id": "7a3b4850",
   "metadata": {},
   "outputs": [
    {
     "data": {
      "text/html": [
       "<div>\n",
       "<style scoped>\n",
       "    .dataframe tbody tr th:only-of-type {\n",
       "        vertical-align: middle;\n",
       "    }\n",
       "\n",
       "    .dataframe tbody tr th {\n",
       "        vertical-align: top;\n",
       "    }\n",
       "\n",
       "    .dataframe thead th {\n",
       "        text-align: right;\n",
       "    }\n",
       "</style>\n",
       "<table border=\"1\" class=\"dataframe\">\n",
       "  <thead>\n",
       "    <tr style=\"text-align: right;\">\n",
       "      <th></th>\n",
       "      <th>value</th>\n",
       "    </tr>\n",
       "  </thead>\n",
       "  <tbody>\n",
       "    <tr>\n",
       "      <th>0</th>\n",
       "      <td>10</td>\n",
       "    </tr>\n",
       "    <tr>\n",
       "      <th>1</th>\n",
       "      <td>20</td>\n",
       "    </tr>\n",
       "    <tr>\n",
       "      <th>2</th>\n",
       "      <td>30</td>\n",
       "    </tr>\n",
       "    <tr>\n",
       "      <th>3</th>\n",
       "      <td>1000</td>\n",
       "    </tr>\n",
       "    <tr>\n",
       "      <th>4</th>\n",
       "      <td>40</td>\n",
       "    </tr>\n",
       "  </tbody>\n",
       "</table>\n",
       "</div>"
      ],
      "text/plain": [
       "   value\n",
       "0     10\n",
       "1     20\n",
       "2     30\n",
       "3   1000\n",
       "4     40"
      ]
     },
     "execution_count": 4,
     "metadata": {},
     "output_type": "execute_result"
    }
   ],
   "source": [
    "df.head()"
   ]
  },
  {
   "cell_type": "markdown",
   "id": "d0dc568e",
   "metadata": {},
   "source": [
    "#### 极值"
   ]
  },
  {
   "cell_type": "code",
   "execution_count": 5,
   "id": "e1993845",
   "metadata": {},
   "outputs": [
    {
     "name": "stdout",
     "output_type": "stream",
     "text": [
      "最小值: 10, 最大值: 1000\n"
     ]
    }
   ],
   "source": [
    "min_value = df['value'].min()\n",
    "max_value = df['value'].max()\n",
    "\n",
    "print(f\"最小值: {min_value}, 最大值: {max_value}\")"
   ]
  },
  {
   "cell_type": "markdown",
   "id": "7416a1b2",
   "metadata": {},
   "source": [
    "#### 分位数"
   ]
  },
  {
   "cell_type": "code",
   "execution_count": 11,
   "id": "28272f6b",
   "metadata": {},
   "outputs": [
    {
     "name": "stdout",
     "output_type": "stream",
     "text": [
      "0.25    22.5\n",
      "0.50    35.0\n",
      "0.75    47.5\n",
      "Name: value, dtype: float64\n"
     ]
    }
   ],
   "source": [
    "quantiles = df['value'].quantile([0.25, 0.5, 0.75])\n",
    "print(quantiles)"
   ]
  },
  {
   "cell_type": "markdown",
   "id": "2544de58",
   "metadata": {},
   "source": [
    "#### 峰度偏度"
   ]
  },
  {
   "cell_type": "code",
   "execution_count": 10,
   "id": "ffcc69be",
   "metadata": {},
   "outputs": [
    {
     "name": "stdout",
     "output_type": "stream",
     "text": [
      "峰度: 1.190837176139265, 偏度: 1.7837298139192148\n"
     ]
    }
   ],
   "source": [
    "data_kurtosis = kurtosis(df['value'])\n",
    "data_skewness = skew(df['value'])\n",
    "print(f\"峰度: {data_kurtosis}, 偏度: {data_skewness}\")"
   ]
  },
  {
   "cell_type": "markdown",
   "id": "d376f4fb",
   "metadata": {},
   "source": [
    "### 1.1.2 多变量探查"
   ]
  },
  {
   "cell_type": "markdown",
   "id": "564e6ceb",
   "metadata": {},
   "source": [
    "### 有监督分析"
   ]
  },
  {
   "cell_type": "markdown",
   "id": "c401c44f",
   "metadata": {},
   "source": [
    "#### logit回归"
   ]
  },
  {
   "cell_type": "code",
   "execution_count": 33,
   "id": "7923edfa",
   "metadata": {},
   "outputs": [],
   "source": [
    "import statsmodels.api as sm"
   ]
  },
  {
   "cell_type": "code",
   "execution_count": 34,
   "id": "fba2ec43",
   "metadata": {},
   "outputs": [
    {
     "name": "stdout",
     "output_type": "stream",
     "text": [
      "Optimization terminated successfully.\n",
      "         Current function value: 0.483716\n",
      "         Iterations 7\n",
      "                           Logit Regression Results                           \n",
      "==============================================================================\n",
      "Dep. Variable:                      y   No. Observations:                    7\n",
      "Model:                          Logit   Df Residuals:                        4\n",
      "Method:                           MLE   Df Model:                            2\n",
      "Date:                Mon, 25 Dec 2023   Pseudo R-squ.:                  0.2917\n",
      "Time:                        12:31:25   Log-Likelihood:                -3.3860\n",
      "converged:                       True   LL-Null:                       -4.7804\n",
      "Covariance Type:            nonrobust   LLR p-value:                    0.2480\n",
      "==============================================================================\n",
      "                 coef    std err          z      P>|z|      [0.025      0.975]\n",
      "------------------------------------------------------------------------------\n",
      "const         -2.1173      2.687     -0.788      0.431      -7.383       3.149\n",
      "x1             2.8202      2.821      1.000      0.317      -2.709       8.350\n",
      "x2            -0.8202      1.219     -0.673      0.501      -3.209       1.569\n",
      "==============================================================================\n"
     ]
    }
   ],
   "source": [
    "# 假设样本数据包含一个二分类的因变量和两个自变量\n",
    "data = pd.DataFrame({\n",
    "    'y': [0, 1, 0, 1, 1, 0, 1],\n",
    "    'x1': [1, 2, 3, 2, 3, 1, 4],\n",
    "    'x2': [5, 3, 6, 4, 7, 2, 8]\n",
    "})\n",
    "\n",
    "# 定义因变量和自变量\n",
    "y = data['y']\n",
    "X = data[['x1', 'x2']]\n",
    "X = sm.add_constant(X) # 添加常数项\n",
    "\n",
    "# 构建Logit模型并拟合数据\n",
    "logit_model = sm.Logit(y, X)\n",
    "result = logit_model.fit()\n",
    "\n",
    "# 输出结果\n",
    "print(result.summary())"
   ]
  },
  {
   "cell_type": "markdown",
   "id": "2f42e904",
   "metadata": {},
   "source": [
    "#### Logistic 回归"
   ]
  },
  {
   "cell_type": "code",
   "execution_count": 35,
   "id": "52c093bf",
   "metadata": {},
   "outputs": [],
   "source": [
    "from sklearn.linear_model import LogisticRegression"
   ]
  },
  {
   "cell_type": "code",
   "execution_count": 36,
   "id": "c7adab0a",
   "metadata": {},
   "outputs": [
    {
     "name": "stdout",
     "output_type": "stream",
     "text": [
      "[[-1.38289836e-05  6.65549604e-01  3.08989913e-02]]\n"
     ]
    }
   ],
   "source": [
    "# 使用相同的样本数据\n",
    "\n",
    "# 构建Logistic回归模型并拟合数据\n",
    "logistic_model = LogisticRegression()\n",
    "logistic_model.fit(X, y)\n",
    "\n",
    "# 输出模型系数\n",
    "print(logistic_model.coef_)"
   ]
  },
  {
   "cell_type": "markdown",
   "id": "9a3878bb",
   "metadata": {},
   "source": [
    "#### 方差分析"
   ]
  },
  {
   "cell_type": "code",
   "execution_count": 37,
   "id": "f1de5d19",
   "metadata": {},
   "outputs": [],
   "source": [
    "from scipy import stats"
   ]
  },
  {
   "cell_type": "code",
   "execution_count": 38,
   "id": "5c8d995a",
   "metadata": {},
   "outputs": [
    {
     "name": "stdout",
     "output_type": "stream",
     "text": [
      "F-value: 79.09803921568614, P-value: 1.228542491020107e-07\n"
     ]
    }
   ],
   "source": [
    "# 假设样本数据包含三组不同的数据\n",
    "group1 = [20, 21, 19, 20, 22]\n",
    "group2 = [28, 30, 29, 29, 27]\n",
    "group3 = [18, 19, 17, 20, 21]\n",
    "\n",
    "# 进行ANOVA分析\n",
    "f_value, p_value = stats.f_oneway(group1, group2, group3)\n",
    "print(f'F-value: {f_value}, P-value: {p_value}')"
   ]
  },
  {
   "cell_type": "markdown",
   "id": "42629303",
   "metadata": {},
   "source": [
    "### 无监督分析"
   ]
  },
  {
   "cell_type": "markdown",
   "id": "377c215a",
   "metadata": {},
   "source": [
    "#### k-means"
   ]
  },
  {
   "cell_type": "code",
   "execution_count": 13,
   "id": "7cbd1fb7",
   "metadata": {},
   "outputs": [],
   "source": [
    "from sklearn.cluster import KMeans"
   ]
  },
  {
   "cell_type": "code",
   "execution_count": 17,
   "id": "f08f25e7",
   "metadata": {},
   "outputs": [
    {
     "name": "stdout",
     "output_type": "stream",
     "text": [
      "聚类结果： [1 1 1 0 0 0]\n",
      "聚类中心点： [[10.  2.]\n",
      " [ 1.  2.]]\n"
     ]
    },
    {
     "name": "stderr",
     "output_type": "stream",
     "text": [
      "/Users/qilin7/.pyenv/versions/3.8.10/lib/python3.8/site-packages/sklearn/cluster/_kmeans.py:1416: FutureWarning: The default value of `n_init` will change from 10 to 'auto' in 1.4. Set the value of `n_init` explicitly to suppress the warning\n",
      "  super()._check_params_vs_input(X, default_n_init=10)\n"
     ]
    }
   ],
   "source": [
    "# 示例数据\n",
    "X = np.array([[1, 2], [1, 4], [1, 0],\n",
    "              [10, 2], [10, 4], [10, 0]])\n",
    "\n",
    "# 应用 K-Means 算法\n",
    "kmeans = KMeans(n_clusters=2, random_state=0).fit(X)\n",
    "\n",
    "# 输出聚类结果\n",
    "print(\"聚类结果：\", kmeans.labels_)\n",
    "# 输出中心点\n",
    "print(\"聚类中心点：\",kmeans.cluster_centers_)"
   ]
  },
  {
   "cell_type": "markdown",
   "id": "dd626fbf",
   "metadata": {},
   "source": [
    "#### DBSCAN"
   ]
  },
  {
   "cell_type": "code",
   "execution_count": 18,
   "id": "b2dc82a5",
   "metadata": {},
   "outputs": [],
   "source": [
    "from sklearn.cluster import DBSCAN"
   ]
  },
  {
   "cell_type": "code",
   "execution_count": 20,
   "id": "66b0530d",
   "metadata": {},
   "outputs": [
    {
     "name": "stdout",
     "output_type": "stream",
     "text": [
      "聚类结果： [ 0  0  0  1  1 -1]\n"
     ]
    }
   ],
   "source": [
    "# 示例数据\n",
    "X = np.array([[1, 2], [2, 2], [2, 3],\n",
    "              [8, 7], [8, 8], [25, 80]])\n",
    "\n",
    "# 应用 DBSCAN 算法\n",
    "dbscan = DBSCAN(eps=3, min_samples=2).fit(X)\n",
    "\n",
    "# 输出聚类结果\n",
    "print(\"聚类结果：\",dbscan.labels_)\n",
    "# 其中-1代表异常值"
   ]
  },
  {
   "cell_type": "markdown",
   "id": "4daf525d",
   "metadata": {},
   "source": [
    "#### 谱聚类"
   ]
  },
  {
   "cell_type": "code",
   "execution_count": 21,
   "id": "7be930eb",
   "metadata": {},
   "outputs": [],
   "source": [
    "from sklearn.cluster import SpectralClustering"
   ]
  },
  {
   "cell_type": "code",
   "execution_count": 32,
   "id": "25449004",
   "metadata": {},
   "outputs": [
    {
     "name": "stdout",
     "output_type": "stream",
     "text": [
      "[1 1 1 0 0 0]\n"
     ]
    }
   ],
   "source": [
    "# 示例数据\n",
    "X = np.array([[1, 1], [2, 1], [1, 0],\n",
    "              [4, 7], [3, 5], [3, 6]])\n",
    "\n",
    "# 应用谱聚类算法\n",
    "clustering = SpectralClustering(n_clusters=2,\n",
    "        assign_labels='discretize',\n",
    "        random_state=0).fit(X)\n",
    "\n",
    "# 输出结果\n",
    "print(clustering.labels_)"
   ]
  },
  {
   "cell_type": "markdown",
   "id": "29a7d93b",
   "metadata": {},
   "source": [
    "#### 因子分析"
   ]
  },
  {
   "cell_type": "code",
   "execution_count": 27,
   "id": "73d2bcc8",
   "metadata": {},
   "outputs": [],
   "source": [
    "from sklearn.decomposition import FactorAnalysis"
   ]
  },
  {
   "cell_type": "code",
   "execution_count": 28,
   "id": "f78e07b4",
   "metadata": {},
   "outputs": [
    {
     "name": "stdout",
     "output_type": "stream",
     "text": [
      "[[-0.14273821  0.14704951]]\n"
     ]
    }
   ],
   "source": [
    "# 示例数据\n",
    "X = np.array([[0.70, 0.1], [0.3, 0.2], [0.3, 0.7],\n",
    "              [0.7, 0.4], [0.3, 0.8], [0.9, 0.5]])\n",
    "\n",
    "# 应用因子分析\n",
    "factor = FactorAnalysis(n_components=1).fit(X)\n",
    "\n",
    "# 输出因子载荷\n",
    "print(factor.components_)"
   ]
  },
  {
   "cell_type": "code",
   "execution_count": null,
   "id": "430b542d",
   "metadata": {},
   "outputs": [],
   "source": []
  }
 ],
 "metadata": {
  "kernelspec": {
   "display_name": "Python 3",
   "language": "python",
   "name": "python3"
  },
  "language_info": {
   "codemirror_mode": {
    "name": "ipython",
    "version": 3
   },
   "file_extension": ".py",
   "mimetype": "text/x-python",
   "name": "python",
   "nbconvert_exporter": "python",
   "pygments_lexer": "ipython3",
   "version": "3.8.10"
  }
 },
 "nbformat": 4,
 "nbformat_minor": 5
}
