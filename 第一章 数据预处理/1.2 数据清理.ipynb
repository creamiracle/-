{
 "cells": [
  {
   "cell_type": "markdown",
   "id": "c7c51d8e",
   "metadata": {},
   "source": [
    "## 1.2 数据清洗"
   ]
  },
  {
   "cell_type": "markdown",
   "id": "1c6d1944",
   "metadata": {},
   "source": [
    "### 导入所需库"
   ]
  },
  {
   "cell_type": "code",
   "execution_count": 1,
   "id": "cbd1af8f",
   "metadata": {},
   "outputs": [],
   "source": [
    "import pandas as pd\n",
    "import numpy as np"
   ]
  },
  {
   "cell_type": "markdown",
   "id": "ee0ba4b6",
   "metadata": {},
   "source": [
    "### 1.2.1 缺失值"
   ]
  },
  {
   "cell_type": "markdown",
   "id": "a6ffdcbe",
   "metadata": {},
   "source": [
    "#### 查找缺失值"
   ]
  },
  {
   "cell_type": "code",
   "execution_count": 3,
   "id": "297849f1",
   "metadata": {},
   "outputs": [
    {
     "name": "stdout",
     "output_type": "stream",
     "text": [
      "     A    B\n",
      "0  1.0  4.0\n",
      "1  NaN  5.0\n",
      "2  3.0  NaN\n"
     ]
    }
   ],
   "source": [
    "# 示例数据\n",
    "df = pd.DataFrame({\n",
    "    'A': [1, np.nan, 3],\n",
    "    'B': [4, 5, np.nan]\n",
    "})\n",
    "print(df.head())"
   ]
  },
  {
   "cell_type": "code",
   "execution_count": 8,
   "id": "91e55400",
   "metadata": {},
   "outputs": [
    {
     "name": "stdout",
     "output_type": "stream",
     "text": [
      "列A存在缺失值1个\n",
      "列B存在缺失值1个\n"
     ]
    }
   ],
   "source": [
    "# 查看每列的缺失情况\n",
    "for i in df.columns:\n",
    "    print(f'列{i}存在缺失值{ df[i].isnull().sum()}个')"
   ]
  },
  {
   "cell_type": "markdown",
   "id": "a5f92a89",
   "metadata": {},
   "source": [
    "#### 固定值填充"
   ]
  },
  {
   "cell_type": "code",
   "execution_count": 9,
   "id": "c3dff6e2",
   "metadata": {},
   "outputs": [
    {
     "name": "stdout",
     "output_type": "stream",
     "text": [
      "     A    B\n",
      "0  1.0  4.0\n",
      "1  0.0  5.0\n",
      "2  3.0  0.0\n"
     ]
    }
   ],
   "source": [
    "# 使用固定值0进行填充\n",
    "df_filled = df.fillna(0)\n",
    "print(df_filled.head())"
   ]
  },
  {
   "cell_type": "markdown",
   "id": "cb0e0f10",
   "metadata": {},
   "source": [
    "#### 模型填充"
   ]
  },
  {
   "cell_type": "code",
   "execution_count": 10,
   "id": "02eab8dc",
   "metadata": {},
   "outputs": [
    {
     "name": "stdout",
     "output_type": "stream",
     "text": [
      "     A    B\n",
      "0  1.0  4.0\n",
      "1  2.0  5.0\n",
      "2  3.0  4.5\n"
     ]
    }
   ],
   "source": [
    "from sklearn.impute import KNNImputer\n",
    "\n",
    "# 创建KNN填充器\n",
    "imputer = KNNImputer(n_neighbors=2)\n",
    "\n",
    "# 使用KNN填充缺失值\n",
    "df_filled_knn = pd.DataFrame(imputer.fit_transform(df), columns=df.columns)\n",
    "\n",
    "print(df_filled_knn.head())"
   ]
  },
  {
   "cell_type": "markdown",
   "id": "276b44fe",
   "metadata": {},
   "source": [
    "### 1.2.2 异常值"
   ]
  },
  {
   "cell_type": "markdown",
   "id": "ed94e9b1",
   "metadata": {},
   "source": [
    "#### 基于统计值的异常值检测"
   ]
  },
  {
   "cell_type": "code",
   "execution_count": 26,
   "id": "0eac3430",
   "metadata": {},
   "outputs": [
    {
     "name": "stdout",
     "output_type": "stream",
     "text": [
      "   value\n",
      "0     10\n",
      "1     12\n",
      "2     12\n",
      "3     13\n",
      "4     12\n",
      "5     11\n",
      "6    500\n"
     ]
    }
   ],
   "source": [
    "# 示例数据\n",
    "data = {'value': [10, 12, 12, 13, 12, 11, 500]}\n",
    "df = pd.DataFrame(data)\n",
    "print(df)"
   ]
  },
  {
   "cell_type": "code",
   "execution_count": 27,
   "id": "bd1bfad7",
   "metadata": {},
   "outputs": [
    {
     "name": "stdout",
     "output_type": "stream",
     "text": [
      "   value\n",
      "6    500\n"
     ]
    }
   ],
   "source": [
    "# 计算均值和标准差\n",
    "mean = df['value'].mean()\n",
    "std = df['value'].std()\n",
    "\n",
    "# 定义异常值的阈值\n",
    "threshold = 2\n",
    "\n",
    "# 检测异常值\n",
    "outliers = df[(df['value'] < mean - threshold * std) | (df['value'] > mean + threshold * std)]\n",
    "print(outliers)"
   ]
  },
  {
   "cell_type": "markdown",
   "id": "002f8fad",
   "metadata": {},
   "source": [
    "#### 基于DBSCAN的异常值检测"
   ]
  },
  {
   "cell_type": "code",
   "execution_count": 19,
   "id": "06d46c76",
   "metadata": {},
   "outputs": [
    {
     "name": "stdout",
     "output_type": "stream",
     "text": [
      "[[500]]\n"
     ]
    }
   ],
   "source": [
    "from sklearn.cluster import DBSCAN\n",
    "import numpy as np\n",
    "\n",
    "# 假设样例数据集\n",
    "data = np.array([[10], [12], [12], [13], [12], [11], [500]])\n",
    "\n",
    "# 应用DBSCAN\n",
    "dbscan = DBSCAN(eps=3, min_samples=2).fit(data)\n",
    "\n",
    "# 找出噪声点（异常值）\n",
    "outlier_indexes = np.where(dbscan.labels_ == -1)[0]\n",
    "outliers = data[outlier_indexes]\n",
    "print(outliers)"
   ]
  },
  {
   "cell_type": "markdown",
   "id": "1d2d4f35",
   "metadata": {},
   "source": [
    "#### 异常值删除"
   ]
  },
  {
   "cell_type": "code",
   "execution_count": 25,
   "id": "11d106a1",
   "metadata": {},
   "outputs": [
    {
     "name": "stdout",
     "output_type": "stream",
     "text": [
      "   value\n",
      "0     10\n",
      "1     12\n",
      "2     12\n",
      "3     13\n",
      "4     12\n",
      "5     11\n"
     ]
    }
   ],
   "source": [
    "# 对于示例数据，继续使用上面的统计方法检测到的异常值\n",
    "df_cleaned = df.drop(outliers.index)\n",
    "print(df_cleaned)"
   ]
  },
  {
   "cell_type": "markdown",
   "id": "48c16f5f",
   "metadata": {},
   "source": [
    "#### 异常值转换"
   ]
  },
  {
   "cell_type": "code",
   "execution_count": 28,
   "id": "2b1be7d3",
   "metadata": {},
   "outputs": [
    {
     "name": "stdout",
     "output_type": "stream",
     "text": [
      "       value\n",
      "0  10.000000\n",
      "1  12.000000\n",
      "2  12.000000\n",
      "3  13.000000\n",
      "4  12.000000\n",
      "5  11.000000\n",
      "6  81.428571\n"
     ]
    }
   ],
   "source": [
    "# 使用均值替换异常值\n",
    "df['value'][outliers.index] = mean\n",
    "print(df)"
   ]
  },
  {
   "cell_type": "markdown",
   "id": "8640df44",
   "metadata": {},
   "source": [
    "### 1.2.3 重复值"
   ]
  },
  {
   "cell_type": "markdown",
   "id": "19d1aeeb",
   "metadata": {},
   "source": [
    "#### 重复值删除"
   ]
  },
  {
   "cell_type": "code",
   "execution_count": 31,
   "id": "3a2cb016",
   "metadata": {},
   "outputs": [
    {
     "name": "stdout",
     "output_type": "stream",
     "text": [
      "      Name  Age  Salary\n",
      "0    Alice   25   50000\n",
      "1      Bob   30   60000\n",
      "2  Charlie   35   70000\n",
      "3    Alice   25   50000\n",
      "4      Bob   30   60000\n"
     ]
    }
   ],
   "source": [
    "# 创建样例数据\n",
    "data = {\n",
    "    'Name': ['Alice', 'Bob', 'Charlie', 'Alice', 'Bob'],\n",
    "    'Age': [25, 30, 35, 25, 30],\n",
    "    'Salary': [50000, 60000, 70000, 50000, 60000]\n",
    "}\n",
    "\n",
    "df = pd.DataFrame(data)\n",
    "print(df)"
   ]
  },
  {
   "cell_type": "code",
   "execution_count": 32,
   "id": "8cb902cb",
   "metadata": {},
   "outputs": [
    {
     "name": "stdout",
     "output_type": "stream",
     "text": [
      "      Name  Age  Salary\n",
      "0    Alice   25   50000\n",
      "1      Bob   30   60000\n",
      "2  Charlie   35   70000\n"
     ]
    }
   ],
   "source": [
    "df_cleaned = df.drop_duplicates()\n",
    "print(df_cleaned)"
   ]
  },
  {
   "cell_type": "markdown",
   "id": "b89e840a",
   "metadata": {},
   "source": [
    "#### 重复值聚合"
   ]
  },
  {
   "cell_type": "code",
   "execution_count": 33,
   "id": "2ce9dd2d",
   "metadata": {},
   "outputs": [
    {
     "name": "stdout",
     "output_type": "stream",
     "text": [
      "      Name  Age  Salary\n",
      "0    Alice   25   50000\n",
      "1      Bob   30   60000\n",
      "2  Charlie   35   70000\n",
      "3    Alice   25   50000\n",
      "4      Bob   30   60000\n"
     ]
    }
   ],
   "source": [
    "# 创建样例数据\n",
    "data = {\n",
    "    'Name': ['Alice', 'Bob', 'Charlie', 'Alice', 'Bob'],\n",
    "    'Age': [25, 30, 35, 25, 30],\n",
    "    'Salary': [50000, 60000, 70000, 50000, 60000]\n",
    "}\n",
    "\n",
    "df = pd.DataFrame(data)\n",
    "print(df)"
   ]
  },
  {
   "cell_type": "code",
   "execution_count": 35,
   "id": "ce7c7738",
   "metadata": {},
   "outputs": [
    {
     "name": "stdout",
     "output_type": "stream",
     "text": [
      "      Name  Age  Salary\n",
      "0    Alice   25  100000\n",
      "1      Bob   30  120000\n",
      "2  Charlie   35   70000\n"
     ]
    }
   ],
   "source": [
    "# 假设这里的重复值表示不同时间的薪资记录，我们可以对薪资进行聚合\n",
    "df_aggregated = df.groupby(['Name', 'Age'], as_index=False).agg({'Salary': 'sum'})\n",
    "print(df_aggregated)"
   ]
  },
  {
   "cell_type": "code",
   "execution_count": null,
   "id": "58ae10fd",
   "metadata": {},
   "outputs": [],
   "source": []
  }
 ],
 "metadata": {
  "kernelspec": {
   "display_name": "Python 3",
   "language": "python",
   "name": "python3"
  },
  "language_info": {
   "codemirror_mode": {
    "name": "ipython",
    "version": 3
   },
   "file_extension": ".py",
   "mimetype": "text/x-python",
   "name": "python",
   "nbconvert_exporter": "python",
   "pygments_lexer": "ipython3",
   "version": "3.8.10"
  }
 },
 "nbformat": 4,
 "nbformat_minor": 5
}
