{
 "cells": [
  {
   "cell_type": "markdown",
   "id": "cdaf42f1",
   "metadata": {},
   "source": [
    "## 1.3 数据变换 "
   ]
  },
  {
   "cell_type": "markdown",
   "id": "9047b1a9",
   "metadata": {},
   "source": [
    "### 导入所需库"
   ]
  },
  {
   "cell_type": "code",
   "execution_count": 1,
   "id": "97228d96",
   "metadata": {},
   "outputs": [],
   "source": [
    "import pandas as pd \n",
    "import numpy as np\n",
    "import warnings\n",
    "warnings.filterwarnings(\"ignore\")"
   ]
  },
  {
   "cell_type": "markdown",
   "id": "5ae429f7",
   "metadata": {},
   "source": [
    "### 1.3.1 数据标准化"
   ]
  },
  {
   "cell_type": "code",
   "execution_count": 3,
   "id": "98cad6d0",
   "metadata": {},
   "outputs": [],
   "source": [
    "# 样例数据\n",
    "data = np.array([[100, 0.001],\n",
    "                 [8, 0.05],\n",
    "                 [50, 0.005],\n",
    "                 [88, 0.07],\n",
    "                 [4, 0.1]])"
   ]
  },
  {
   "cell_type": "markdown",
   "id": "871e9952",
   "metadata": {},
   "source": [
    "#### 归一化"
   ]
  },
  {
   "cell_type": "code",
   "execution_count": 4,
   "id": "7633c5a2",
   "metadata": {},
   "outputs": [
    {
     "name": "stdout",
     "output_type": "stream",
     "text": [
      "[[1.         0.        ]\n",
      " [0.04166667 0.49494949]\n",
      " [0.47916667 0.04040404]\n",
      " [0.875      0.6969697 ]\n",
      " [0.         1.        ]]\n"
     ]
    }
   ],
   "source": [
    "from sklearn.preprocessing import MinMaxScaler\n",
    "\n",
    "# 实例化归一化器\n",
    "scaler = MinMaxScaler()\n",
    "\n",
    "# 进行归一化\n",
    "normalized_data = scaler.fit_transform(data)\n",
    "\n",
    "print(normalized_data)"
   ]
  },
  {
   "cell_type": "markdown",
   "id": "cf9b0a78",
   "metadata": {},
   "source": [
    "#### 标准化"
   ]
  },
  {
   "cell_type": "code",
   "execution_count": 5,
   "id": "78cf30fe",
   "metadata": {},
   "outputs": [
    {
     "name": "stdout",
     "output_type": "stream",
     "text": [
      "[[ 1.26398112 -1.16389967]\n",
      " [-1.06174414  0.12639634]\n",
      " [ 0.         -1.05856939]\n",
      " [ 0.96062565  0.65304778]\n",
      " [-1.16286263  1.44302493]]\n"
     ]
    }
   ],
   "source": [
    "from sklearn.preprocessing import StandardScaler\n",
    "\n",
    "# 实例化标准化器\n",
    "scaler = StandardScaler()\n",
    "\n",
    "# 进行标准化\n",
    "standardized_data = scaler.fit_transform(data)\n",
    "\n",
    "print(standardized_data)"
   ]
  },
  {
   "cell_type": "markdown",
   "id": "09f5a364",
   "metadata": {},
   "source": [
    "#### 正则化"
   ]
  },
  {
   "cell_type": "code",
   "execution_count": 6,
   "id": "2a45e9a3",
   "metadata": {},
   "outputs": [
    {
     "name": "stdout",
     "output_type": "stream",
     "text": [
      "[[1.00000000e+00 1.00000000e-05]\n",
      " [9.99980469e-01 6.24987793e-03]\n",
      " [9.99999995e-01 9.99999995e-05]\n",
      " [9.99999684e-01 7.95454294e-04]\n",
      " [9.99687646e-01 2.49921912e-02]]\n"
     ]
    }
   ],
   "source": [
    "from sklearn.preprocessing import Normalizer\n",
    "\n",
    "# 实例化正则化器\n",
    "normalizer = Normalizer()\n",
    "\n",
    "# 进行正则化\n",
    "regularized_data = normalizer.fit_transform(data)\n",
    "\n",
    "print(regularized_data)"
   ]
  },
  {
   "cell_type": "markdown",
   "id": "b0e6998a",
   "metadata": {},
   "source": [
    "### 1.3.2 数据编码"
   ]
  },
  {
   "cell_type": "code",
   "execution_count": 2,
   "id": "eb93f31c",
   "metadata": {},
   "outputs": [
    {
     "name": "stdout",
     "output_type": "stream",
     "text": [
      "    Grade\n",
      "0     Low\n",
      "1  Medium\n",
      "2    High\n",
      "3  Medium\n",
      "4     Low\n"
     ]
    }
   ],
   "source": [
    "# 样例数据\n",
    "data = pd.DataFrame({'Grade': ['Low', 'Medium', 'High', 'Medium', 'Low']})\n",
    "print(data)"
   ]
  },
  {
   "cell_type": "markdown",
   "id": "c66a4010",
   "metadata": {},
   "source": [
    "#### 顺序编码"
   ]
  },
  {
   "cell_type": "code",
   "execution_count": 10,
   "id": "4ffc36e6",
   "metadata": {},
   "outputs": [
    {
     "name": "stdout",
     "output_type": "stream",
     "text": [
      "    Grade  Grade_encoded\n",
      "0     Low            1.0\n",
      "1  Medium            2.0\n",
      "2    High            0.0\n",
      "3  Medium            2.0\n",
      "4     Low            1.0\n"
     ]
    }
   ],
   "source": [
    "from sklearn.preprocessing import OrdinalEncoder\n",
    "import pandas as pd\n",
    "\n",
    "# 应用顺序编码\n",
    "encoder = OrdinalEncoder()\n",
    "data['Grade_encoded'] = encoder.fit_transform(data[['Grade']])\n",
    "print(data)"
   ]
  },
  {
   "cell_type": "markdown",
   "id": "a1e05625",
   "metadata": {},
   "source": [
    "#### 独热编码"
   ]
  },
  {
   "cell_type": "code",
   "execution_count": 16,
   "id": "2b3fe8ed",
   "metadata": {},
   "outputs": [
    {
     "name": "stdout",
     "output_type": "stream",
     "text": [
      "[[0. 1. 0.]\n",
      " [0. 0. 1.]\n",
      " [1. 0. 0.]\n",
      " [0. 0. 1.]\n",
      " [0. 1. 0.]]\n"
     ]
    }
   ],
   "source": [
    "from sklearn.preprocessing import OneHotEncoder\n",
    "\n",
    "# 应用独热编码\n",
    "encoder = OneHotEncoder(sparse=False)\n",
    "data_encoded = encoder.fit_transform(data[['Grade']])\n",
    "print(data_encoded)"
   ]
  },
  {
   "cell_type": "markdown",
   "id": "40d47988",
   "metadata": {},
   "source": [
    "#### 频率编码"
   ]
  },
  {
   "cell_type": "code",
   "execution_count": 18,
   "id": "b2169a75",
   "metadata": {},
   "outputs": [
    {
     "name": "stdout",
     "output_type": "stream",
     "text": [
      "    Grade  Grade_encoded\n",
      "0     Low            0.4\n",
      "1  Medium            0.4\n",
      "2    High            0.2\n",
      "3  Medium            0.4\n",
      "4     Low            0.4\n"
     ]
    }
   ],
   "source": [
    "frequency = data['Grade'].value_counts(normalize=True)\n",
    "\n",
    "# 应用频率编码\n",
    "data['Grade_encoded'] = data['Grade'].map(frequency)\n",
    "print(data)"
   ]
  },
  {
   "cell_type": "markdown",
   "id": "40f854ce",
   "metadata": {},
   "source": [
    "#### 目标编码"
   ]
  },
  {
   "cell_type": "code",
   "execution_count": 3,
   "id": "06f38cf9",
   "metadata": {},
   "outputs": [
    {
     "name": "stdout",
     "output_type": "stream",
     "text": [
      "    Grade  Target  Grade_encoded\n",
      "0     Low       1       1.171630\n",
      "1  Medium       2       1.313481\n",
      "2    High       0       1.043870\n",
      "3  Medium       2       1.313481\n",
      "4     Low       1       1.171630\n"
     ]
    }
   ],
   "source": [
    "\n",
    "# 假设有目标变量\n",
    "data['Target'] = [1, 2, 0, 2, 1]\n",
    "\n",
    "# 应用目标编码\n",
    "encoder = ce.TargetEncoder()\n",
    "data['Grade_encoded'] = encoder.fit_transform(data['Grade'], data['Target'])\n",
    "print(data)"
   ]
  },
  {
   "cell_type": "markdown",
   "id": "00a780e4",
   "metadata": {},
   "source": [
    "#### 模型编码"
   ]
  },
  {
   "cell_type": "code",
   "execution_count": 4,
   "id": "e8bdeda3",
   "metadata": {},
   "outputs": [
    {
     "name": "stdout",
     "output_type": "stream",
     "text": [
      "    Grade  Target  Grade_encoded\n",
      "0     Low       1            1.2\n",
      "1  Medium       2            1.2\n",
      "2    High       0            1.2\n",
      "3  Medium       2            1.6\n",
      "4     Low       1            1.1\n"
     ]
    }
   ],
   "source": [
    "import category_encoders as ce\n",
    "\n",
    "# 使用catboost编码\n",
    "encoder = ce.CatBoostEncoder()\n",
    "data['Grade_encoded'] = encoder.fit_transform(data['Grade'], data['Target'])\n",
    "print(data)"
   ]
  },
  {
   "cell_type": "markdown",
   "id": "37ee5a92",
   "metadata": {},
   "source": [
    "### 1.3.3 分布变换"
   ]
  },
  {
   "cell_type": "code",
   "execution_count": 14,
   "id": "c9295bf7",
   "metadata": {},
   "outputs": [
    {
     "name": "stdout",
     "output_type": "stream",
     "text": [
      "   value\n",
      "0     10\n",
      "1    100\n",
      "2   1000\n",
      "3  10000\n"
     ]
    }
   ],
   "source": [
    "# 样例数据\n",
    "data = {'value': [10, 100, 1000, 10000]}\n",
    "df = pd.DataFrame(data)\n",
    "print(df)"
   ]
  },
  {
   "cell_type": "markdown",
   "id": "b48ad4d6",
   "metadata": {},
   "source": [
    "#### log变换"
   ]
  },
  {
   "cell_type": "code",
   "execution_count": 7,
   "id": "78abeb2d",
   "metadata": {},
   "outputs": [
    {
     "name": "stdout",
     "output_type": "stream",
     "text": [
      "   value  log_transformed\n",
      "0     10         2.302585\n",
      "1    100         4.605170\n",
      "2   1000         6.907755\n",
      "3  10000         9.210340\n"
     ]
    }
   ],
   "source": [
    "df['log_transformed'] = np.log(df['value'])\n",
    "print(df)"
   ]
  },
  {
   "cell_type": "markdown",
   "id": "67a855ac",
   "metadata": {},
   "source": [
    "#### box-cox变换"
   ]
  },
  {
   "cell_type": "code",
   "execution_count": 12,
   "id": "e2ca8703",
   "metadata": {},
   "outputs": [
    {
     "name": "stdout",
     "output_type": "stream",
     "text": [
      "   value  box_cox_value\n",
      "0     10       2.302585\n",
      "1    100       4.605170\n",
      "2   1000       6.907755\n",
      "3  10000       9.210341\n",
      "Optimal lambda: 4.11631264713494e-09\n"
     ]
    }
   ],
   "source": [
    "from scipy import stats\n",
    "\n",
    "# Box-Cox变换\n",
    "df['box_cox_value'], fitted_lambda = stats.boxcox(df['value'])\n",
    "\n",
    "print(df)\n",
    "print('Optimal lambda:', fitted_lambda)"
   ]
  },
  {
   "cell_type": "markdown",
   "id": "9f42c20d",
   "metadata": {},
   "source": [
    "#### yeo-johnson变换"
   ]
  },
  {
   "cell_type": "code",
   "execution_count": 17,
   "id": "9a5189ed",
   "metadata": {},
   "outputs": [
    {
     "name": "stdout",
     "output_type": "stream",
     "text": [
      "   value  johnson_transformed\n",
      "0     10        -2.075367e+00\n",
      "1    100         9.872263e-02\n",
      "2   1000         1.000000e+01\n",
      "3  10000         2.830347e-09\n"
     ]
    }
   ],
   "source": [
    "from scipy.stats import johnsonsu\n",
    "\n",
    "# Johnson变换\n",
    "df['johnson_transformed'] = johnsonsu.fit(df['value'])\n",
    "\n",
    "print(df)"
   ]
  },
  {
   "cell_type": "markdown",
   "id": "78f4c25f",
   "metadata": {},
   "source": [
    "### 1.3.4 数据抽样"
   ]
  },
  {
   "cell_type": "code",
   "execution_count": 25,
   "id": "37d433d9",
   "metadata": {},
   "outputs": [
    {
     "name": "stdout",
     "output_type": "stream",
     "text": [
      "     id     value\n",
      "0     1  1.764052\n",
      "1     2  0.400157\n",
      "2     3  0.978738\n",
      "3     4  2.240893\n",
      "4     5  1.867558\n",
      "..  ...       ...\n",
      "95   96  0.706573\n",
      "96   97  0.010500\n",
      "97   98  1.785870\n",
      "98   99  0.126912\n",
      "99  100  0.401989\n",
      "\n",
      "[100 rows x 2 columns]\n"
     ]
    }
   ],
   "source": [
    "# 样例数据\n",
    "np.random.seed(0)\n",
    "df = pd.DataFrame({\n",
    "    'id': range(1, 101),  # 100个样本点\n",
    "    'value': np.random.randn(100)  # 一些随机值\n",
    "})\n",
    "print(df)"
   ]
  },
  {
   "cell_type": "markdown",
   "id": "c1b50c12",
   "metadata": {},
   "source": [
    "#### 随机抽样"
   ]
  },
  {
   "cell_type": "code",
   "execution_count": 20,
   "id": "997a8b2c",
   "metadata": {},
   "outputs": [
    {
     "name": "stdout",
     "output_type": "stream",
     "text": [
      "    id     value\n",
      "19  20 -0.854096\n",
      "6    7  0.950088\n",
      "45  46 -0.438074\n",
      "57  58  0.302472\n",
      "22  23  0.864436\n",
      "25  26 -1.454366\n",
      "48  49 -1.613898\n",
      "30  31  0.154947\n",
      "59  60 -0.362741\n",
      "73  74 -1.234826\n"
     ]
    }
   ],
   "source": [
    "sample_simple = df.sample(n=10)  # 随机选择10个样本\n",
    "print(sample_simple)"
   ]
  },
  {
   "cell_type": "markdown",
   "id": "034eb54a",
   "metadata": {},
   "source": [
    "#### 分层抽样"
   ]
  },
  {
   "cell_type": "code",
   "execution_count": 21,
   "id": "7922e8c0",
   "metadata": {},
   "outputs": [
    {
     "name": "stdout",
     "output_type": "stream",
     "text": [
      "    id     value    strata\n",
      "14  15  0.443863  positive\n",
      "24  25  2.269755  positive\n",
      "16  17  1.494079  positive\n",
      "35  36  0.156349  positive\n",
      "59  60 -0.362741  negative\n",
      "0    1  1.764052  positive\n",
      "83  84 -1.536244  negative\n",
      "49  50 -0.212740  negative\n",
      "8    9 -0.103219  negative\n",
      "78  79 -0.311553  negative\n"
     ]
    }
   ],
   "source": [
    "from sklearn.model_selection import train_test_split\n",
    "\n",
    "# 假设df中的数据根据某个特征可以被分成几个层\n",
    "df['strata'] = np.where(df['value'] > 0, 'positive', 'negative')  # 基于value列创建分层依据\n",
    "\n",
    "# 分层抽样\n",
    "# 10%的数据作为样本\n",
    "stratified_sample = train_test_split(df, test_size=0.1, stratify=df['strata'])[1] \n",
    "print(stratified_sample)"
   ]
  },
  {
   "cell_type": "markdown",
   "id": "6936bd7e",
   "metadata": {},
   "source": [
    "#### 整体抽样"
   ]
  },
  {
   "cell_type": "code",
   "execution_count": 23,
   "id": "c23d8a76",
   "metadata": {},
   "outputs": [
    {
     "name": "stdout",
     "output_type": "stream",
     "text": [
      "    id     value    strata  cluster\n",
      "1    2  0.400157  positive        2\n",
      "5    6 -0.977278  negative        6\n",
      "11  12  1.454274  positive        2\n",
      "15  16  0.333674  positive        6\n",
      "21  22  0.653619  positive        2\n",
      "25  26 -1.454366  negative        6\n",
      "31  32  0.378163  positive        2\n",
      "35  36  0.156349  positive        6\n",
      "41  42 -1.420018  negative        2\n",
      "45  46 -0.438074  negative        6\n",
      "51  52  0.386902  positive        2\n",
      "55  56  0.428332  positive        6\n",
      "61  62 -0.359553  negative        2\n",
      "65  66 -0.401781  negative        6\n",
      "71  72  0.128983  positive        2\n",
      "75  76 -0.684810  negative        6\n",
      "81  82  0.900826  positive        2\n",
      "85  86  1.895889  positive        6\n",
      "91  92  1.222445  positive        2\n",
      "95  96  0.706573  positive        6\n"
     ]
    }
   ],
   "source": [
    "df['cluster'] = df['id'] % 10  # 创建10个整体\n",
    "\n",
    "# 整体抽样\n",
    "selected_clusters = np.random.choice(df['cluster'].unique(), 2, replace=False)  # 随机选择2个整体\n",
    "cluster_sample = df[df['cluster'].isin(selected_clusters)]  # 抽取这两个整体的数据\n",
    "print(cluster_sample)"
   ]
  },
  {
   "cell_type": "markdown",
   "id": "de2ffb2e",
   "metadata": {},
   "source": [
    "#### 系统抽样"
   ]
  },
  {
   "cell_type": "code",
   "execution_count": 26,
   "id": "aa92e68c",
   "metadata": {},
   "outputs": [
    {
     "name": "stdout",
     "output_type": "stream",
     "text": [
      "    id     value\n",
      "0    1  1.764052\n",
      "10  11  0.144044\n",
      "20  21 -2.552990\n",
      "30  31  0.154947\n",
      "40  41 -1.048553\n",
      "50  51 -0.895467\n",
      "60  61 -0.672460\n",
      "70  71  0.729091\n",
      "80  81 -1.165150\n",
      "90  91 -0.403177\n"
     ]
    }
   ],
   "source": [
    "k = 10  # 每隔9个样本选择一个样本\n",
    "systematic_sample = df.iloc[::k, :]  # 选择系统样本\n",
    "print(systematic_sample)"
   ]
  },
  {
   "cell_type": "code",
   "execution_count": null,
   "id": "7fdc4189",
   "metadata": {},
   "outputs": [],
   "source": []
  }
 ],
 "metadata": {
  "kernelspec": {
   "display_name": "Python 3",
   "language": "python",
   "name": "python3"
  },
  "language_info": {
   "codemirror_mode": {
    "name": "ipython",
    "version": 3
   },
   "file_extension": ".py",
   "mimetype": "text/x-python",
   "name": "python",
   "nbconvert_exporter": "python",
   "pygments_lexer": "ipython3",
   "version": "3.8.10"
  }
 },
 "nbformat": 4,
 "nbformat_minor": 5
}
